{
 "metadata": {
  "language_info": {
   "codemirror_mode": {
    "name": "ipython",
    "version": 3
   },
   "file_extension": ".py",
   "mimetype": "text/x-python",
   "name": "python",
   "nbconvert_exporter": "python",
   "pygments_lexer": "ipython3",
   "version": "3.8.2-final"
  },
  "orig_nbformat": 2,
  "kernelspec": {
   "name": "python_defaultSpec_1597604982855",
   "display_name": "Python 3.8.2 64-bit ('.venv': venv)"
  }
 },
 "nbformat": 4,
 "nbformat_minor": 2,
 "cells": [
  {
   "cell_type": "code",
   "execution_count": 2,
   "metadata": {
    "tags": []
   },
   "outputs": [
    {
     "output_type": "stream",
     "name": "stdout",
     "text": "initial list [33, 85, -5, 8, 24, 3, 9]\nx_sum =  -2\nmy_list after adding x_sum is  [33, 85, -5, -2, 8, 24, 3, 9]\nAt the end my_list looks like [33, 85, -5, -2, 8, 24, 9]\n"
    }
   ],
   "source": [
    "initial =[33,85,-5,8,24, 3,9] #initial list\n",
    "print('initial list', initial)\n",
    "\n",
    "#create a new list equal to the initial one\n",
    "my_list=  initial \n",
    "\n",
    "#add the third element of my_list to the second last element.\n",
    "x_sum=  my_list[2] + my_list[-2]\n",
    "\n",
    "print ('x_sum = ' ,x_sum)\n",
    "\n",
    "my_list.insert(-4,x_sum) #insert x_sum before the fourth element of my_list\n",
    "print( 'my_list after adding x_sum is ', my_list)\n",
    "\n",
    "my_list.remove(3)#now remove the value 3 from my_list\n",
    "print( 'At the end my_list looks like', my_list)"
   ]
  },
  {
   "cell_type": "code",
   "execution_count": null,
   "metadata": {},
   "outputs": [],
   "source": []
  }
 ]
}
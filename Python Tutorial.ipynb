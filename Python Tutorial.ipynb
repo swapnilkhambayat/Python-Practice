{
 "metadata": {
  "language_info": {
   "codemirror_mode": {
    "name": "ipython",
    "version": 3
   },
   "file_extension": ".py",
   "mimetype": "text/x-python",
   "name": "python",
   "nbconvert_exporter": "python",
   "pygments_lexer": "ipython3",
   "version": 3
  },
  "orig_nbformat": 2,
  "kernelspec": {
   "name": "python_defaultSpec_1597265194960",
   "display_name": "Python 3.8.2 64-bit ('.venv': venv)"
  }
 },
 "nbformat": 4,
 "nbformat_minor": 2,
 "cells": [
  {
   "cell_type": "markdown",
   "metadata": {},
   "source": [
    "capitalize: The capitalize() function ensures that the first character in a string is capitalized (uppercase). Only the first letter in the string is capitalized. If the string contains multiple words separated by empty characters, only the first character is capitalized."
   ]
  },
  {
   "cell_type": "code",
   "execution_count": 3,
   "metadata": {
    "tags": []
   },
   "outputs": [
    {
     "output_type": "stream",
     "name": "stdout",
     "text": "First message\nSecond message\nThird message\n"
    }
   ],
   "source": [
    "message = str.capitalize('first message')\n",
    "print(message)\n",
    "\n",
    "message = 'second message'.capitalize()\n",
    "print(message)\n",
    "\n",
    "message = 'third message'\n",
    "print(message.capitalize())\n"
   ]
  },
  {
   "cell_type": "markdown",
   "metadata": {},
   "source": [
    "The type() function merely examines the value you pass it as an input parameter (the word between the parentheses) and returns the data type. It's a great tool to use as you're learning about Python and how it works with values under the hood. However, for real applications, there are more useful ways at getting to this information."
   ]
  },
  {
   "cell_type": "code",
   "execution_count": 1,
   "metadata": {
    "tags": []
   },
   "outputs": [
    {
     "output_type": "stream",
     "name": "stdout",
     "text": "<class 'str'>\n<class 'int'>\n<class 'float'>\n"
    }
   ],
   "source": [
    "print(type('7'))\n",
    "print(type(7))\n",
    "print(type(7.1))"
   ]
  },
  {
   "cell_type": "markdown",
   "metadata": {},
   "source": [
    "The isinstance() function tells you whether the value is what you expected. It returns the value True if your expectation is correct and False if it's incorrect. The isinstance() function returns a Boolean value."
   ]
  },
  {
   "cell_type": "code",
   "execution_count": 1,
   "metadata": {
    "tags": []
   },
   "outputs": [
    {
     "output_type": "stream",
     "name": "stdout",
     "text": "True\nTrue\nTrue\nFalse\nFalse\nFalse\n"
    }
   ],
   "source": [
    "# print(type('7'))\n",
    "# print(type(7))\n",
    "# print(type(7.1))\n",
    "\n",
    "print(isinstance('7', str))\n",
    "print(isinstance(7, int))\n",
    "print(isinstance(7.1, float))\n",
    "\n",
    "print(isinstance(7, str))\n",
    "print(isinstance('7', int))\n",
    "print(isinstance('7.1', float))"
   ]
  },
  {
   "cell_type": "markdown",
   "metadata": {},
   "source": [
    "It's important to understand that the data type is part of the value. The data type is not part of the variable that you might use to access the value. A variable can point to any value, regardless of the value's data type."
   ]
  },
  {
   "cell_type": "code",
   "execution_count": 2,
   "metadata": {
    "tags": []
   },
   "outputs": [
    {
     "output_type": "stream",
     "name": "stdout",
     "text": "<class 'str'>\n<class 'int'>\n<class 'bool'>\n"
    }
   ],
   "source": [
    "x = 'a string'\n",
    "print(type(x))\n",
    "x = 7\n",
    "print(type(x))\n",
    "x = False \n",
    "print(type(x))"
   ]
  },
  {
   "cell_type": "markdown",
   "metadata": {},
   "source": [
    "The isnumeric() function returns a Boolean value if the string value can be converted into a numeric value.\n",
    "Functions that supply additional functionality and are accessible to any value of a specified data type are called helper functions because they're built-in helpers that help you use or understand more about the contents of the string value itself."
   ]
  },
  {
   "cell_type": "code",
   "execution_count": 2,
   "metadata": {
    "tags": []
   },
   "outputs": [
    {
     "output_type": "stream",
     "name": "stdout",
     "text": "True\nFalse\n"
    }
   ],
   "source": [
    "numeric_value = '7'\n",
    "print(numeric_value.isnumeric())\n",
    "\n",
    "string_value = 'Bob'\n",
    "print(string_value.isnumeric())"
   ]
  },
  {
   "cell_type": "markdown",
   "metadata": {},
   "source": [
    "The if statement allows you to perform a gate on the input. A gate is a programming term that refers to a check on data to ensure that it's in the proper format before the program continues."
   ]
  },
  {
   "cell_type": "code",
   "execution_count": 1,
   "metadata": {
    "tags": []
   },
   "outputs": [
    {
     "output_type": "stream",
     "name": "stdout",
     "text": "Sum: 13\n"
    }
   ],
   "source": [
    "first_value = input('First Number: ')\n",
    "\n",
    "if first_value.isnumeric() == False:\n",
    "    print('Value is not a number.')\n",
    "    exit()\n",
    "\n",
    "second_value = input('Second Number: ')\n",
    "\n",
    "if second_value.isnumeric() == False:\n",
    "    print('Value is not a number.')\n",
    "    exit()\n",
    "\n",
    "first_value = int(first_value)\n",
    "second_value = int(second_value)\n",
    "\n",
    "sum = first_value + second_value\n",
    "print('Sum: ' + str(sum))"
   ]
  },
  {
   "cell_type": "markdown",
   "metadata": {},
   "source": [
    "Python follows the PEMDAS acronym, which indicates the order in which the operations should be performed.\n",
    "\n",
    "Parentheses:    Resolve operations between parentheses first.\n",
    "Exponents:      Resolve exponents.\n",
    "Multiplication: Perform multiplication, from left to right.\n",
    "Division:       Perform division, from left to right.\n",
    "Addition:       Perform addition, from left to right.\n",
    "Subtraction:    Perform subtraction, from left to right."
   ]
  },
  {
   "cell_type": "code",
   "execution_count": 1,
   "metadata": {
    "tags": []
   },
   "outputs": [
    {
     "output_type": "stream",
     "name": "stdout",
     "text": "23\n35\n"
    }
   ],
   "source": [
    "print(3 + 4 * 5)\n",
    "print((3 + 4) * 5)"
   ]
  },
  {
   "cell_type": "markdown",
   "metadata": {},
   "source": [
    "The round() function provides a way to perform rounding and conversion from a float value into an int value."
   ]
  },
  {
   "cell_type": "code",
   "execution_count": 2,
   "metadata": {
    "tags": []
   },
   "outputs": [
    {
     "output_type": "stream",
     "name": "stdout",
     "text": "7.65\n9.877\n"
    }
   ],
   "source": [
    "first_value = round(7.654321, 2)\n",
    "print(first_value)\n",
    "\n",
    "second_value = round(9.87654, 3)\n",
    "print(second_value)"
   ]
  },
  {
   "cell_type": "code",
   "execution_count": null,
   "metadata": {},
   "outputs": [],
   "source": []
  }
 ]
}
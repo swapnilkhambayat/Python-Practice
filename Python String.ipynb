{
 "metadata": {
  "language_info": {
   "codemirror_mode": {
    "name": "ipython",
    "version": 3
   },
   "file_extension": ".py",
   "mimetype": "text/x-python",
   "name": "python",
   "nbconvert_exporter": "python",
   "pygments_lexer": "ipython3",
   "version": 3
  },
  "orig_nbformat": 2,
  "kernelspec": {
   "name": "python_defaultSpec_1596968608310",
   "display_name": "Python 3.8.2 64-bit ('.venv': venv)"
  }
 },
 "nbformat": 4,
 "nbformat_minor": 2,
 "cells": [
  {
   "cell_type": "markdown",
   "metadata": {},
   "source": [
    "capitalize: The capitalize() function ensures that the first character in a string is capitalized (uppercase). Only the first letter in the string is capitalized. If the string contains multiple words separated by empty characters, only the first character is capitalized."
   ]
  },
  {
   "cell_type": "code",
   "execution_count": 3,
   "metadata": {
    "tags": []
   },
   "outputs": [
    {
     "output_type": "stream",
     "name": "stdout",
     "text": "First message\nSecond message\nThird message\n"
    }
   ],
   "source": [
    "message = str.capitalize('first message')\n",
    "print(message)\n",
    "\n",
    "message = 'second message'.capitalize()\n",
    "print(message)\n",
    "\n",
    "message = 'third message'\n",
    "print(message.capitalize())\n"
   ]
  },
  {
   "cell_type": "code",
   "execution_count": 2,
   "metadata": {},
   "outputs": [],
   "source": []
  }
 ]
}